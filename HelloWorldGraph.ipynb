{
 "cells": [
  {
   "cell_type": "code",
   "execution_count": 2,
   "id": "74bc1952",
   "metadata": {},
   "outputs": [],
   "source": [
    "\n",
    "from typing import Dict,TypedDict\n",
    "from langgraph.graph import StateGraph #   StateGraph is a class that represents a state machine graph\n"
   ]
  },
  {
   "cell_type": "code",
   "execution_count": 3,
   "id": "68f7669d",
   "metadata": {},
   "outputs": [],
   "source": [
    "# we now create a state graph for the agent\n",
    "class AgentState(TypedDict):\n",
    "    \"\"\"\n",
    "    Represents the state of the agent.\n",
    "    \"\"\"\n",
    "    message : str\n",
    "    \"\"\"The message that the agent is currently processing.\"\"\"\n",
    "    \n",
    "    \n",
    "def greeting_node(state: AgentState) -> AgentState:\n",
    "    \"\"\"\n",
    "    simple node that sets the initial message in the state.\n",
    "    \"\"\"\n",
    "    state['message'] = \"Hello, I am an agent. hows it going?\"\n",
    "    return state"
   ]
  },
  {
   "cell_type": "code",
   "execution_count": 4,
   "id": "dea687ea",
   "metadata": {},
   "outputs": [],
   "source": [
    "graph=StateGraph(AgentState)\n",
    "\n",
    "graph.add_node(\"greeting\", greeting_node)\n",
    "graph.set_entry_point(\"greeting\")\n",
    "graph.set_finish_point(\"greeting\")\n",
    "\n",
    "app=graph.compile()"
   ]
  },
  {
   "cell_type": "code",
   "execution_count": null,
   "id": "fbae3d56",
   "metadata": {},
   "outputs": [],
   "source": [
    "from IPython.display import display, Image\n",
    "def display_graph():\n",
    "    \"\"\"\n",
    "    Displays the state graph as an image.\n",
    "    \"\"\"\n",
    "    graph_image = app.get_graph().draw_mermaid_png()\n",
    "    display(Image(graph_image))"
   ]
  }
 ],
 "metadata": {
  "kernelspec": {
   "display_name": "Python 3",
   "language": "python",
   "name": "python3"
  },
  "language_info": {
   "codemirror_mode": {
    "name": "ipython",
    "version": 3
   },
   "file_extension": ".py",
   "mimetype": "text/x-python",
   "name": "python",
   "nbconvert_exporter": "python",
   "pygments_lexer": "ipython3",
   "version": "3.11.0"
  }
 },
 "nbformat": 4,
 "nbformat_minor": 5
}
