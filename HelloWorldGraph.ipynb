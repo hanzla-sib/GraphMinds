{
 "cells": [
  {
   "cell_type": "code",
   "execution_count": 6,
   "id": "74bc1952",
   "metadata": {},
   "outputs": [],
   "source": [
    "\n",
    "from typing import Dict,TypedDict\n",
    "from langgraph.graph import StateGraph #   StateGraph is a class that represents a state machine graph\n"
   ]
  },
  {
   "cell_type": "code",
   "execution_count": null,
   "id": "68f7669d",
   "metadata": {},
   "outputs": [],
   "source": [
    "# we now create a state graph for the agent\n",
    "class AgentState(TypedDict):\n",
    "    \"\"\"\n",
    "    Represents the state of the agent.\n",
    "    \"\"\"\n",
    "    message : str\n",
    "    \"\"\"The message that the agent is currently processing.\"\"\""
   ]
  }
 ],
 "metadata": {
  "kernelspec": {
   "display_name": "Python 3",
   "language": "python",
   "name": "python3"
  },
  "language_info": {
   "codemirror_mode": {
    "name": "ipython",
    "version": 3
   },
   "file_extension": ".py",
   "mimetype": "text/x-python",
   "name": "python",
   "nbconvert_exporter": "python",
   "pygments_lexer": "ipython3",
   "version": "3.11.0"
  }
 },
 "nbformat": 4,
 "nbformat_minor": 5
}
