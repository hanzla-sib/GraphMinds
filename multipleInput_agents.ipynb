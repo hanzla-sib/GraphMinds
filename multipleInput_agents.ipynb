{
 "cells": [
  {
   "cell_type": "code",
   "execution_count": 6,
   "id": "880f8f8d",
   "metadata": {},
   "outputs": [],
   "source": [
    "from typing import List, TypedDict\n",
    "from langgraph.graph import StateGraph"
   ]
  },
  {
   "cell_type": "code",
   "execution_count": 8,
   "id": "80de2e93",
   "metadata": {},
   "outputs": [],
   "source": [
    "class AgentState(TypedDict):\n",
    "    \"\"\"\n",
    "    Represents the state of the agent.\n",
    "    \"\"\"\n",
    "    name: str\n",
    "    result: str\n",
    "    values: List[int]"
   ]
  },
  {
   "cell_type": "code",
   "execution_count": 10,
   "id": "0f1b2cbd",
   "metadata": {},
   "outputs": [],
   "source": [
    "def process_vlues(stateL:AgentState) -> AgentState:\n",
    "    \"\"\"\n",
    "    Processes the values in the agent state and returns a new state with the result.\n",
    "    \"\"\"\n",
    "    total = sum(stateL['values'])\n",
    "    stateL['result'] = f\"Total: {total} (values: {stateL['values']}) name: {stateL['name']})\" \n",
    "    return stateL"
   ]
  },
  {
   "cell_type": "code",
   "execution_count": 11,
   "id": "32e5a2fc",
   "metadata": {},
   "outputs": [],
   "source": [
    "graph=StateGraph(AgentState)\n",
    "graph.add_node(\"processor\",process_vlues)\n",
    "graph.set_entry_point(\"processor\")\n",
    "graph.set_finish_point(\"processor\")\n",
    "app=graph.compile()"
   ]
  },
  {
   "cell_type": "code",
   "execution_count": 14,
   "id": "b0cb6792",
   "metadata": {},
   "outputs": [],
   "source": [
    "from IPython.display import display, Image\n",
    "def display_graph():\n",
    "    \"\"\"\n",
    "    Displays the state graph as an image.\n",
    "    \"\"\"\n",
    "    graph_image = app.get_graph().draw_mermaid_png()\n",
    "    display(Image(graph_image))"
   ]
  },
  {
   "cell_type": "code",
   "execution_count": 13,
   "id": "8736c3e7",
   "metadata": {},
   "outputs": [
    {
     "ename": "AttributeError",
     "evalue": "'StateGraph' object has no attribute 'to_image'",
     "output_type": "error",
     "traceback": [
      "\u001b[31m---------------------------------------------------------------------------\u001b[39m",
      "\u001b[31mAttributeError\u001b[39m                            Traceback (most recent call last)",
      "\u001b[36mCell\u001b[39m\u001b[36m \u001b[39m\u001b[32mIn[13]\u001b[39m\u001b[32m, line 1\u001b[39m\n\u001b[32m----> \u001b[39m\u001b[32m1\u001b[39m \u001b[43mdisplay_graph\u001b[49m\u001b[43m(\u001b[49m\u001b[43m)\u001b[49m\n",
      "\u001b[36mCell\u001b[39m\u001b[36m \u001b[39m\u001b[32mIn[12]\u001b[39m\u001b[32m, line 6\u001b[39m, in \u001b[36mdisplay_graph\u001b[39m\u001b[34m()\u001b[39m\n\u001b[32m      2\u001b[39m \u001b[38;5;28;01mdef\u001b[39;00m\u001b[38;5;250m \u001b[39m\u001b[34mdisplay_graph\u001b[39m():\n\u001b[32m      3\u001b[39m \u001b[38;5;250m    \u001b[39m\u001b[33;03m\"\"\"\u001b[39;00m\n\u001b[32m      4\u001b[39m \u001b[33;03m    Displays the state graph as an image.\u001b[39;00m\n\u001b[32m      5\u001b[39m \u001b[33;03m    \"\"\"\u001b[39;00m\n\u001b[32m----> \u001b[39m\u001b[32m6\u001b[39m     graph_image = \u001b[43mgraph\u001b[49m\u001b[43m.\u001b[49m\u001b[43mto_image\u001b[49m()\n\u001b[32m      7\u001b[39m     display(Image(graph_image))\n",
      "\u001b[31mAttributeError\u001b[39m: 'StateGraph' object has no attribute 'to_image'"
     ]
    }
   ],
   "source": [
    "display_graph()"
   ]
  }
 ],
 "metadata": {
  "kernelspec": {
   "display_name": "Python 3",
   "language": "python",
   "name": "python3"
  },
  "language_info": {
   "codemirror_mode": {
    "name": "ipython",
    "version": 3
   },
   "file_extension": ".py",
   "mimetype": "text/x-python",
   "name": "python",
   "nbconvert_exporter": "python",
   "pygments_lexer": "ipython3",
   "version": "3.11.0"
  }
 },
 "nbformat": 4,
 "nbformat_minor": 5
}
